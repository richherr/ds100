{
 "cells": [
  {
   "cell_type": "markdown",
   "metadata": {},
   "source": [
    "# Working with Text\n",
    "\n",
    "A great quantity of data resides not as numbers in CSVs but as free-form text\n",
    "in books, documents, blog posts, and Internet comments. While numerical and\n",
    "categorical data are often collected from physical phenomena, textual data\n",
    "arises from human communication and expression. As with most types of data,\n",
    "there are a multitude of techniques for working with text that would take\n",
    "multiple books to explain in full detail. In this chapter, we introduce a small\n",
    "subset of these techniques that provide a variety of useful operations for\n",
    "working with text: Python string manipulation and regular expressions.\n"
   ]
  },
  {
   "cell_type": "markdown",
   "id": "fitting-prize",
   "metadata": {},
   "source": [
    "\n",
    "```{toctree}\n",
    ":hidden:\n",
    ":titlesonly:\n",
    "\n",
    "\n",
    "text_strings\n",
    "text_regex\n",
    "text_re\n",
    "```\n"
   ]
  }
 ],
 "metadata": {},
 "nbformat": 4,
 "nbformat_minor": 2
}