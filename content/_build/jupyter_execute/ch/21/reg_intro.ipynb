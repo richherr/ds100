{
 "cells": [
  {
   "cell_type": "markdown",
   "metadata": {},
   "source": [
    "# Regularization\n",
    "\n",
    "Feature engineering can incorporate important information about the data\n",
    "generation process into our model. However, adding features to the data also\n",
    "typically increases the variance of our model and can thus result in worse\n",
    "performance overall. Rather than throwing out features entirely, we can turn to\n",
    "a technique called regularization to reduce the variance of our model while\n",
    "still incorporating as much information about the data as possible.\n"
   ]
  },
  {
   "cell_type": "markdown",
   "id": "circular-friendly",
   "metadata": {},
   "source": [
    "\n",
    "```{toctree}\n",
    ":hidden:\n",
    ":titlesonly:\n",
    "\n",
    "\n",
    "reg_intuition\n",
    "reg_ridge\n",
    "reg_lasso\n",
    "```\n"
   ]
  }
 ],
 "metadata": {},
 "nbformat": 4,
 "nbformat_minor": 2
}