{
 "cells": [
  {
   "cell_type": "markdown",
   "metadata": {},
   "source": [
    "# Web Technologies\n",
    "\n",
    "Before the Internet, data scientists had to physically move hard disk drives to\n",
    "share data with others. Now, we can freely retrieve datasets from computers\n",
    "across the world.\n",
    "\n",
    "Although we use the Internet to download and share data files, the web pages on\n",
    "the Internet themselves contain huge amounts of information as text, images,\n",
    "and videos. By learning web technologies, we can use the Web as a data source.\n",
    "In this chapter, we introduce HTTP, the primary communication protocol for the\n",
    "Web, and XML/HTML, the primary document formats for web pages.\n"
   ]
  },
  {
   "cell_type": "markdown",
   "id": "preceding-asian",
   "metadata": {},
   "source": [
    "\n",
    "```{toctree}\n",
    ":hidden:\n",
    ":titlesonly:\n",
    "\n",
    "\n",
    "web_http\n",
    "web_rest\n",
    "web_html\n",
    "```\n"
   ]
  }
 ],
 "metadata": {},
 "nbformat": 4,
 "nbformat_minor": 2
}